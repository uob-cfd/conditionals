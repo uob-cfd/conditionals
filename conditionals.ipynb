{
 "cells": [
  {
   "cell_type": "markdown",
   "id": "39df4c02",
   "metadata": {},
   "source": [
    "# Exercises on conditional statements\n",
    "\n",
    "For background, please read the [conditional statements](https://uob-ds.github.io/cfd2021/functions-conditionals/conditional_statements) introduction."
   ]
  },
  {
   "cell_type": "code",
   "execution_count": null,
   "id": "0864939f",
   "metadata": {},
   "outputs": [],
   "source": [
    "# Load the OKpy test library and tests.\n",
    "from client.api.notebook import Notebook\n",
    "ok = Notebook('conditionals.ok')"
   ]
  },
  {
   "cell_type": "markdown",
   "id": "8f20f7fb",
   "metadata": {},
   "source": [
    "This *if statement* is not properly defined, and will give a `SyntaxError`.  Fix it, so that `y` gets set to \"That's right\"."
   ]
  },
  {
   "cell_type": "code",
   "execution_count": null,
   "id": "87dbb0c6",
   "metadata": {},
   "outputs": [],
   "source": [
    "x = 10\n",
    "x > 4:\n",
    "    y = \"That's right\"\n",
    "# Show the value of y\n",
    "y"
   ]
  },
  {
   "cell_type": "code",
   "execution_count": null,
   "id": "64e0ee75",
   "metadata": {
    "lines_to_next_cell": 2
   },
   "outputs": [],
   "source": [
    "_ = ok.grade('q_1_y')"
   ]
  },
  {
   "cell_type": "markdown",
   "id": "b477c611",
   "metadata": {},
   "source": [
    "This `if` statement also gives a `SyntaxError`. Fix and run. It\n",
    "should set `p` to have the value -8."
   ]
  },
  {
   "cell_type": "code",
   "execution_count": null,
   "id": "186a264a",
   "metadata": {},
   "outputs": [],
   "source": [
    "p = -2\n",
    "if p < 0\n",
    "p"
   ]
  },
  {
   "cell_type": "code",
   "execution_count": null,
   "id": "03a975aa",
   "metadata": {
    "lines_to_next_cell": 2
   },
   "outputs": [],
   "source": [
    "_ = ok.grade('q_2_p')"
   ]
  },
  {
   "cell_type": "markdown",
   "id": "9c517426",
   "metadata": {},
   "source": [
    "Another `SyntaxError`; fix and run.  It should show `a divided\n",
    "by 6 is 4`"
   ]
  },
  {
   "cell_type": "code",
   "execution_count": null,
   "id": "3b2cc203",
   "metadata": {},
   "outputs": [],
   "source": [
    "a = 24\n",
    "if a / 6 == 4:\n",
    "result = 'a divided by 6 is 4'\n",
    "result"
   ]
  },
  {
   "cell_type": "code",
   "execution_count": null,
   "id": "8e5d57dd",
   "metadata": {},
   "outputs": [],
   "source": [
    "_ = ok.grade('q_3_result')"
   ]
  },
  {
   "cell_type": "markdown",
   "id": "fe5710af",
   "metadata": {},
   "source": [
    "We want an algorithm to choose a newspaper for someone to read\n",
    "in the dentist's waiting room, given what we know about their\n",
    "views on Brexit.\n",
    "\n",
    "Write a function `choose_paper` that accepts a parameter\n",
    "`posh_voter`, and returns `Times` if `posh_voter` has the value\n",
    "`Soft Brexit`, otherwise returns `Telegraph` if `posh_voter`\n",
    "has the value `Hard Brexit` otherwise returns `Daily Express`\n",
    "if voter is `No-deal Brexit` otherwise returns `Guardian` if\n",
    "voter has value `Remain`, otherwise returns None."
   ]
  },
  {
   "cell_type": "code",
   "execution_count": null,
   "id": "03608f54",
   "metadata": {},
   "outputs": [],
   "source": [
    "def choose_paper(posh_voter):\n",
    "    if posh_voter ...\n",
    "\n",
    "# Some examples\n",
    "print(choose_paper('Hard Brexit'))\n",
    "print(choose_paper('Remain'))\n",
    "print(choose_paper('Floating Brexit'))"
   ]
  },
  {
   "cell_type": "code",
   "execution_count": null,
   "id": "53abff05",
   "metadata": {},
   "outputs": [],
   "source": [
    "_ = ok.grade('q_4_brexit')"
   ]
  },
  {
   "cell_type": "markdown",
   "id": "19c98b68",
   "metadata": {},
   "source": [
    "## Done\n",
    "\n",
    "You're finished with the assignment!  Be sure to...\n",
    "\n",
    "- **run all the tests** (the next cell has a shortcut for that),\n",
    "- **Save and Checkpoint** from the \"File\" menu."
   ]
  },
  {
   "cell_type": "code",
   "execution_count": null,
   "id": "3f7c52de",
   "metadata": {},
   "outputs": [],
   "source": [
    "# For your convenience, you can run this cell to run all the tests at once!\n",
    "import os\n",
    "_ = [ok.grade(q[:-3]) for q in sorted(os.listdir(\"tests\")) if q.startswith('q')]"
   ]
  }
 ],
 "metadata": {
  "jupytext": {
   "notebook_metadata_filter": "all,-language_info",
   "split_at_heading": true,
   "text_representation": {
    "extension": ".Rmd",
    "format_name": "rmarkdown",
    "format_version": "1.1",
    "jupytext_version": "1.2.4"
   }
  },
  "kernelspec": {
   "display_name": "Python 3",
   "language": "python",
   "name": "python3"
  },
  "textbook": {
   "run": false
  }
 },
 "nbformat": 4,
 "nbformat_minor": 5
}
